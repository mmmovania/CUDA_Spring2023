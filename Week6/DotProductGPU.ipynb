{
  "cells": [
    {
      "cell_type": "markdown",
      "metadata": {
        "id": "view-in-github",
        "colab_type": "text"
      },
      "source": [
        "<a href=\"https://colab.research.google.com/github/mmmovania/CUDA_Spring2023/blob/main/Week6/DotProductGPU.ipynb\" target=\"_parent\"><img src=\"https://colab.research.google.com/assets/colab-badge.svg\" alt=\"Open In Colab\"/></a>"
      ]
    },
    {
      "cell_type": "code",
      "execution_count": 3,
      "metadata": {
        "colab": {
          "base_uri": "https://localhost:8080/"
        },
        "id": "OB2MY3st-VUm",
        "outputId": "7565ea53-b8f6-4b22-a2c4-d6c2788630b5"
      },
      "outputs": [
        {
          "output_type": "stream",
          "name": "stdout",
          "text": [
            "Collecting git+https://github.com/andreinechaev/nvcc4jupyter.git\n",
            "  Cloning https://github.com/andreinechaev/nvcc4jupyter.git to /tmp/pip-req-build-tov55nss\n",
            "  Running command git clone --filter=blob:none --quiet https://github.com/andreinechaev/nvcc4jupyter.git /tmp/pip-req-build-tov55nss\n",
            "  Resolved https://github.com/andreinechaev/nvcc4jupyter.git to commit 781ff5b76ba6c4c2d80dcbbec9983e147613cc71\n",
            "  Installing build dependencies ... \u001b[?25l\u001b[?25hdone\n",
            "  Getting requirements to build wheel ... \u001b[?25l\u001b[?25hdone\n",
            "  Preparing metadata (pyproject.toml) ... \u001b[?25l\u001b[?25hdone\n",
            "The nvcc4jupyter extension is already loaded. To reload it, use:\n",
            "  %reload_ext nvcc4jupyter\n"
          ]
        }
      ],
      "source": [
        "!pip install git+https://github.com/andreinechaev/nvcc4jupyter.git\n",
        "%load_ext nvcc4jupyter"
      ]
    },
    {
      "cell_type": "code",
      "execution_count": 4,
      "metadata": {
        "colab": {
          "base_uri": "https://localhost:8080/"
        },
        "id": "GYZ627HO-XKd",
        "outputId": "74efedc5-d6dd-475c-de9e-8166679a5d32"
      },
      "outputs": [
        {
          "output_type": "stream",
          "name": "stderr",
          "text": [
            "UsageError: Cell magic `%%cu` not found.\n"
          ]
        }
      ],
      "source": [
        "%%cu\n",
        "#include <stdio.h>\n",
        "const int N = 33 * 1024;\n",
        "const int threadsPerBlock = 256;\n",
        "\n",
        "#define imin(a,b) (a<b?a:b)\n",
        "\n",
        "const int blocksPerGrid =  imin( 32, (N+threadsPerBlock-1) / threadsPerBlock );\n",
        "\n",
        "inline cudaError_t checkCudaErr(cudaError_t err, const char* msg) {\n",
        "  if (err != cudaSuccess) {\n",
        "    fprintf(stderr, \"CUDA Runtime error at %s: %s\\n\", msg, cudaGetErrorString(err));\n",
        "  }\n",
        "  return err;\n",
        "}\n",
        "\n",
        "__global__ void dot( float *a, float *b, float *c ) {\n",
        "    __shared__ float cache[threadsPerBlock];\n",
        "    int tid = threadIdx.x + blockIdx.x * blockDim.x;\n",
        "    int cacheIndex = threadIdx.x;\n",
        "\n",
        "    float   temp = 0;\n",
        "    while (tid < N) {\n",
        "        temp += a[tid] * b[tid];\n",
        "        tid += blockDim.x * gridDim.x;\n",
        "    }\n",
        "\n",
        "    // set the cache values\n",
        "    cache[cacheIndex] = temp;\n",
        "\n",
        "    // synchronize threads in this block\n",
        "    __syncthreads();\n",
        "\n",
        "    // for reductions, threadsPerBlock must be a power of 2\n",
        "    // because of the following code\n",
        "    int i = blockDim.x/2;\n",
        "    while (i != 0) {\n",
        "        if (cacheIndex < i)\n",
        "            cache[cacheIndex] += cache[cacheIndex + i];\n",
        "        __syncthreads();\n",
        "        i /= 2;\n",
        "    }\n",
        "\n",
        "    if (cacheIndex == 0)\n",
        "        c[blockIdx.x] = cache[0];\n",
        "}\n",
        "\n",
        "\n",
        "int main() {\n",
        "\t\tfloat   *a, *b, c, *partial_c;\n",
        "    float   *dev_a, *dev_b, *dev_partial_c;\n",
        "\n",
        "    // allocate memory on the cpu side\n",
        "    a = (float*)malloc( N*sizeof(float) );\n",
        "    b = (float*)malloc( N*sizeof(float) );\n",
        "    partial_c = (float*)malloc( blocksPerGrid*sizeof(float) );\n",
        "\n",
        "    // allocate the memory on the GPU\n",
        "    checkCudaErr( cudaMalloc( (void**)&dev_a,\n",
        "                              N*sizeof(float) ) , \"cudaMalloc1\");\n",
        "    checkCudaErr( cudaMalloc( (void**)&dev_b,\n",
        "                              N*sizeof(float) ) , \"cudaMalloc2\");\n",
        "    checkCudaErr( cudaMalloc( (void**)&dev_partial_c,\n",
        "                              blocksPerGrid*sizeof(float) ) , \"cudaMalloc3\");\n",
        "\n",
        "    // fill in the host memory with data\n",
        "    for (int i=0; i<N; i++) {\n",
        "        a[i] = i;\n",
        "        b[i] = i*2;\n",
        "    }\n",
        "\n",
        "    // copy the arrays 'a' and 'b' to the GPU\n",
        "    checkCudaErr( cudaMemcpy( dev_a, a, N*sizeof(float),\n",
        "                              cudaMemcpyHostToDevice ), \"cudaMemCpy1\" );\n",
        "    checkCudaErr( cudaMemcpy( dev_b, b, N*sizeof(float),\n",
        "                              cudaMemcpyHostToDevice ) , \"cudaMemCpy2\");\n",
        "\n",
        "    dot<<<blocksPerGrid,threadsPerBlock>>>( dev_a, dev_b,\n",
        "                                            dev_partial_c );\n",
        "\n",
        "    // copy the array 'c' back from the GPU to the CPU\n",
        "    checkCudaErr( cudaMemcpy( partial_c, dev_partial_c,\n",
        "                              blocksPerGrid*sizeof(float),\n",
        "                              cudaMemcpyDeviceToHost ), \"cudaMemCpy3\" );\n",
        "\n",
        "    // finish up on the CPU side\n",
        "\n",
        "    c = 0;\n",
        "    for (int i=0; i<blocksPerGrid; i++) {\n",
        "        c += partial_c[i];\n",
        "    }\n",
        "\n",
        "    #define sum_squares(x)  (x*(x+1)*(2*x+1)/6)\n",
        "    printf( \"Does GPU value %.6g = %.6g?\\n\", c,\n",
        "             2 * sum_squares( (float)(N - 1) ) );\n",
        "\n",
        "    // free memory on the gpu side\n",
        "    checkCudaErr( cudaFree( dev_a ) , \"cudaFree1\");\n",
        "    checkCudaErr( cudaFree( dev_b ) , \"cudaFree2\");\n",
        "    checkCudaErr( cudaFree( dev_partial_c ) , \"cudaFree3\");\n",
        "\n",
        "    // free memory on the cpu side\n",
        "    free( a );\n",
        "    free( b );\n",
        "    free( partial_c );\n",
        "\n",
        "\t\tcudaDeviceReset();\n",
        "\t\treturn 0;\n",
        "}"
      ]
    }
  ],
  "metadata": {
    "accelerator": "GPU",
    "colab": {
      "provenance": [],
      "include_colab_link": true
    },
    "kernelspec": {
      "display_name": "Python 3",
      "name": "python3"
    },
    "language_info": {
      "name": "python"
    }
  },
  "nbformat": 4,
  "nbformat_minor": 0
}